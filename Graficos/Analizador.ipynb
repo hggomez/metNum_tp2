{
 "cells": [
  {
   "cell_type": "code",
   "execution_count": 1,
   "metadata": {
    "collapsed": true
   },
   "outputs": [],
   "source": [
    "import numpy as np\n",
    "import scipy as sp\n",
    "import matplotlib.pyplot as plt\n",
    "import seaborn as sns\n",
    "import pandas as pd\n",
    "import random\n",
    "import sklearn.metrics as sk\n",
    "import os"
   ]
  },
  {
   "cell_type": "code",
   "execution_count": 2,
   "metadata": {
    "collapsed": true
   },
   "outputs": [],
   "source": [
    "def cargar_datos(nombre):\n",
    "    lista_nombres = []\n",
    "    lista_metodos_matrices=[]\n",
    "    metodos = os.listdir('../folds/'+nombre)\n",
    "    for metodo in metodos:\n",
    "        matrices = pd.read_csv('../folds/'+nombre+'/'+metodo)\n",
    "        matrices = procesar_input(matrices)\n",
    "        lista_metodos_matrices.append(matrices)\n",
    "        metodo = metodo[:-4]\n",
    "        metodo = metodo.replace('_', ' ')\n",
    "        aux = metodo.split('-')\n",
    "        sup = aux[0].split(' ', 1)\n",
    "        aux = sup + aux[1:]\n",
    "        lista_nombres.append(aux)\n",
    "    return(lista_nombres, lista_metodos_matrices)\n"
   ]
  },
  {
   "cell_type": "code",
   "execution_count": 3,
   "metadata": {
    "collapsed": true
   },
   "outputs": [],
   "source": [
    "def procesar_input(matrices_de_confusion):\n",
    "    lista_matrices  = []\n",
    "    for i in matrices_de_confusion.index:\n",
    "        matriz_aux = (matrices_de_confusion.iloc[[i]]).values\n",
    "        matriz_aux = matriz_aux.reshape(10,10)\n",
    "        df_matriz = pd.DataFrame(data = matriz_aux)\n",
    "        lista_matrices.append(df_matriz)\n",
    "    return lista_matrices\n",
    "\n",
    "def ver_simetria(matriz):\n",
    "    matriz = matriz\n",
    "    matriz_Trans = matriz.transpose()\n",
    "    return (matriz - matriz_Trans).abs()\n",
    "\n",
    "def accuracy(mat):\n",
    "    #mat = mat.apply(pd.to_numeric)\n",
    "    dividendo = (pd.Series(np.diag(mat), index=[mat.index, mat.columns])).sum()\n",
    "    if type(dividendo) == str:\n",
    "        print(dividendo)\n",
    "        print(mat)\n",
    "        print(mat.sum().sum())\n",
    "    aux =  dividendo / (mat.sum()).sum() \n",
    "    df = pd.DataFrame([aux], columns = ['accuracy'])\n",
    "    promedio = df.mean()\n",
    "    desvio = df.std()\n",
    "    return (desvio, promedio, df)\n",
    "\n",
    "def accuracy_mat(lista_mat):\n",
    "    desvio =pd.DataFrame()\n",
    "    promedio = pd.DataFrame()\n",
    "    df = pd.DataFrame()\n",
    "     \n",
    "    for i in range(len(lista_mat)):\n",
    "        desvio_aux, promedio_aux, accuracy_aux = accuracy(lista_mat[i])\n",
    "        desvio['mat'+str(i)] = desvio_aux\n",
    "        promedio['mat'+str(i)] = promedio_aux\n",
    "        df['mat'+str(i)] = accuracy_aux\n",
    "    \n",
    "    return (desvio, promedio, df)\n",
    "\n",
    "\n",
    "\n",
    "def precision_clase(mat, clase):\n",
    "    dividendo = mat.iat[clase, clase]\n",
    "    divisor = mat[clase].sum()\n",
    "    return dividendo/divisor\n",
    "\n",
    "def precision(mat):\n",
    "    prec = []\n",
    "    for i in range(10):\n",
    "        aux = precision_clase(mat,i)\n",
    "        prec.append(aux)\n",
    "    df = pd.DataFrame(prec, columns = ['precision'])\n",
    "    promedio = df.mean()\n",
    "    desvio = df.std()\n",
    "    return (desvio, promedio, df)\n",
    "\n",
    "#precisionM es el parametro promedio que devolvemos\n",
    "def precision_mat(lista_mat):\n",
    "    desvio =pd.DataFrame()\n",
    "    promedio = pd.DataFrame()\n",
    "    df = pd.DataFrame()\n",
    "     \n",
    "    for i in range(len(lista_mat)):\n",
    "        desvio_aux, promedio_aux, precision_aux = precision(lista_mat[i])\n",
    "        desvio['mat'+str(i)] = desvio_aux\n",
    "        promedio['mat'+str(i)] = promedio_aux\n",
    "        df['mat'+str(i)] = precision_aux\n",
    "    \n",
    "    return (desvio, promedio, df)\n",
    "\n",
    "def recall_clase(mat, clase):\n",
    "    dividendo = mat.iat[clase, clase]\n",
    "    divisor = mat.iloc[clase].sum()\n",
    "    return dividendo/divisor\n",
    "    \n",
    "def recall(mat):\n",
    "    rec = []\n",
    "    for i in range(10):\n",
    "        aux = recall_clase(mat, i)\n",
    "        rec.append(aux)\n",
    "    df = pd.DataFrame(rec, columns = ['recall'])\n",
    "    promedio = df.mean()\n",
    "    desvio = df.std()\n",
    "    return (desvio, promedio, df)\n",
    "\n",
    "#RecallM es el parametro promedio que devolvemos\n",
    "def recall_mat(lista_mat):\n",
    "    desvio =pd.DataFrame()\n",
    "    promedio = pd.DataFrame()\n",
    "    df = pd.DataFrame()\n",
    "     \n",
    "    for i in range(len(lista_mat)):\n",
    "        desvio_aux, promedio_aux, recall_aux = recall(lista_mat[i])\n",
    "        desvio['mat'+str(i)] = desvio_aux\n",
    "        promedio['mat'+str(i)] = promedio_aux\n",
    "        df['mat'+str(i)] = recall_aux\n",
    "    \n",
    "    return (desvio, promedio, df)\n",
    "\n",
    "def F_score_clase(beta, mat, clase):\n",
    "    prec = precision_clase(mat, clase)\n",
    "    rec = recall_clase(mat, clase)\n",
    "    dividendo = (beta**2 + 1) * prec*rec\n",
    "    divisor = beta**2 * (prec + rec)\n",
    "    return dividendo/divisor\n",
    "\n",
    "def F_score(beta, mat):\n",
    "    rec = []\n",
    "    for i in range(10):\n",
    "        aux = F_score_clase(beta, mat, i)\n",
    "        rec.append(aux)\n",
    "    df = pd.DataFrame(rec, columns = ['F'+str(beta)+'_score'])\n",
    "    promedio = df.mean()\n",
    "    desvio = df.std()\n",
    "    return (desvio, promedio, df)\n",
    "\n",
    "def F_score_mat(beta, lista_mat):\n",
    "    desvio =pd.DataFrame()\n",
    "    promedio = pd.DataFrame()\n",
    "    df = pd.DataFrame()\n",
    "     \n",
    "    for i in range(len(lista_mat)):\n",
    "        desvio_aux, promedio_aux, f_score_aux = F_score(beta, lista_mat[i])\n",
    "        desvio['mat'+str(i)] = desvio_aux\n",
    "        promedio['mat'+str(i)] = promedio_aux\n",
    "        df['mat'+str(i)] = f_score_aux\n",
    "    \n",
    "    return (desvio, promedio, df)\n",
    "\n",
    "def F_score_M(beta, lista_mat):\n",
    "    desvio, precision_M, df = precision_mat(lista_mat)\n",
    "    desvio, recall_M, df = recall_mat(lista_mat)\n",
    "    precision_M.index = [0]\n",
    "    recall_M.index = [0]\n",
    "    dividendo = (beta**2 + 1)*precision_M * recall_M\n",
    "    divisor = (beta**2 * precision_M) +recall_M\n",
    "    return dividendo/divisor"
   ]
  },
  {
   "cell_type": "code",
   "execution_count": 4,
   "metadata": {
    "collapsed": true
   },
   "outputs": [],
   "source": [
    "#k_fold lineas donde la linea i es una matriz de confusion de la i_esima iteracion de k_fold\n",
    "nombres, lista_metodos = cargar_datos('KNN')\n",
    "nombres_pca, lista_metodos_pca = cargar_datos('KNNPCA')\n",
    "#nombres_mod, lista_metodos_mod = cargar_datos('KNNMOD')"
   ]
  },
  {
   "cell_type": "markdown",
   "metadata": {},
   "source": [
    "# Calculamos accuracy para cada metodo\n"
   ]
  },
  {
   "cell_type": "code",
   "execution_count": 5,
   "metadata": {
    "collapsed": true
   },
   "outputs": [],
   "source": [
    "def tags(lista_variables):\n",
    "    etiqueta = ''\n",
    "    if lista_variables[0] == 'KNN':\n",
    "        etiqueta += str(lista_variables[1])\n",
    "    if lista_variables[0] =='KNNPCA':\n",
    "        etiqueta += str(lista_variables[1])+'\\n'+str(lista_variables[2])\n",
    "    if lista_variables[0] == 'KNNMODPCA':\n",
    "        etiqueta += str(lista_variables[2])\n",
    "    etiqueta += '\\n'+ str(lista_variables[3])\n",
    "    return etiqueta"
   ]
  },
  {
   "cell_type": "code",
   "execution_count": 6,
   "metadata": {
    "collapsed": true,
    "scrolled": false
   },
   "outputs": [],
   "source": [
    "def agregar_columnas(accuracy_total):\n",
    "    knns = [100 for x in range(len(accuracy_total.index))]\n",
    "    alphas = [-100 for x in range(len(accuracy_total.index))]\n",
    "    kfolds = [0 for x in range(len(accuracy_total.index))]\n",
    "    i = 0\n",
    "    for ind in accuracy_total.index:\n",
    "        lista = ind.split(\"\\n\")\n",
    "        lista_piola = []\n",
    "        for elem in lista:\n",
    "            aux = elem.split()\n",
    "            lista_piola.append(aux)\n",
    "        for tripla in lista_piola:\n",
    "            alpha = -100\n",
    "            knn = 100\n",
    "            kfold = 0\n",
    "            if tripla[0] == 'k':\n",
    "                knn = int(tripla[1])\n",
    "                knns[i] = knn\n",
    "            elif tripla[0] == 'alpha':\n",
    "                alpha = int(tripla[1])\n",
    "                alphas[i] = alpha\n",
    "            elif tripla[0] == 'kfold':\n",
    "                kfold = int(tripla[1])\n",
    "                kfolds[i] = kfold\n",
    "\n",
    "        i += 1\n",
    "    accuracy_total['alpha'] = alphas\n",
    "    accuracy_total['kfold'] = kfolds\n",
    "    accuracy_total['knn'] = knns\n",
    "\n",
    "    return accuracy_total\n",
    "\n",
    "def accuracy_metodos(nombres, lista_metodos):\n",
    "    i = 0\n",
    "    accu = []\n",
    "    etiquetas = []\n",
    "    for metodo in lista_metodos:\n",
    "        bla, bls, df = accuracy_mat(metodo)\n",
    "    \n",
    "        tag = tags(nombres[i])\n",
    "        i += 1\n",
    "        accu.append(df)\n",
    "        etiquetas.append(tag)\n",
    "        \n",
    "    accuracy_total = pd.concat(accu)\n",
    "    accuracy_total.index = etiquetas\n",
    "    accuracy_total = agregar_columnas(accuracy_total)\n",
    "    \n",
    "    return accuracy_total\n",
    "\n",
    "def F1_metodos(nombres, lista_metodos):\n",
    "    i = 0\n",
    "    f1 = []\n",
    "    etiquetas = []\n",
    "    for metodo in lista_metodos:\n",
    "        df = F_score_M(1, metodo)\n",
    "        \n",
    "        tag = tags(nombres[i])\n",
    "        i += 1\n",
    "        f1.append(df)\n",
    "        etiquetas.append(tag)\n",
    "        \n",
    "    accuracy_total = pd.concat(f1)\n",
    "    accuracy_total.index = etiquetas\n",
    "    accuracy_total = agregar_columnas(accuracy_total)\n",
    "\n",
    "    return accuracy_total\n",
    "\n",
    "def graficar(accuracy_total, metrica, metodo, save, orden):\n",
    "\n",
    "    accuracy_total_knn = accuracy_total.sort_values(orden, axis = 0)\n",
    "    \n",
    "    orden_real = list(orden)\n",
    "    orden.append('kfold')\n",
    "    \n",
    "    accuracy_total_knn.drop(orden, axis = 1, inplace = True)\n",
    "    \n",
    "    accuracy_total_knn = accuracy_total_knn.transpose().mean().to_frame()\n",
    "    \n",
    "    accuracy_total_knn = unir_folds(accuracy_total_knn)\n",
    "    \n",
    "    accuracy_total_knn = accuracy_total_knn.sort_values(orden_real, axis = 0)\n",
    "    \n",
    "  \n",
    "    \n",
    "    cant_grupos = len(accuracy_total_knn.index)//12\n",
    "    principio = 0\n",
    "    fin = 12\n",
    "    \n",
    "    for i in range(cant_grupos):\n",
    "        valores = accuracy_total_knn.iloc[principio:fin, :]\n",
    "\n",
    "        ac2 = valores['kfold 2'].values\n",
    "        ac6 = valores['kfold 6'].values\n",
    "        ac10 = valores['kfold 10'].values\n",
    "        \n",
    "        \n",
    "        fig, ax = plt.subplots()\n",
    "        plt.figure(figsize=(10, 5), dpi= 80, facecolor='w', edgecolor='k')\n",
    "        hd2, = ax.plot(ac2, 'bo', label = 'kfold 2.')\n",
    "        hd6, = ax.plot(ac6, 'go', label = 'kfold 6.')\n",
    "        hd10, = ax.plot(ac10, 'ro', label = 'kfold 10.')\n",
    "        #escribo los valores del eje x.\n",
    "        ax.set_xticks(range(len(valores.index.get_values())))\n",
    "        ax.set_xticklabels(valores.index.get_values())\n",
    "        ax.legend(handles=[hd2, hd6, hd10], bbox_to_anchor=(1.05, 1), loc=2, borderaxespad=0.)\n",
    "        \n",
    "        \n",
    "        \n",
    "        ax.set_title(metrica+' con '+metodo+'.')\n",
    "\n",
    "        if(save):\n",
    "            fig.savefig(metrica+metodo+str(i)+'orden'+str(orden[0])+'.png', bbox_inches=\"tight\")\n",
    "        plt.show()\n",
    "        principio = fin\n",
    "        fin = principio + 12\n",
    "    \n",
    "    if principio < len(accuracy_total_knn.index) :\n",
    "        valores = accuracy_total_knn.iloc[principio:, :]\n",
    "     \n",
    "        ac2 = valores['kfold 2'].values\n",
    "        ac6 = valores['kfold 6'].values\n",
    "        ac10 = valores['kfold 10'].values\n",
    "        \n",
    "        \n",
    "        fig, ax = plt.subplots()\n",
    "        plt.figure(figsize=(10, 5), dpi= 80, facecolor='w', edgecolor='k')\n",
    "        hd2, = ax.plot(ac2, 'bo', label = 'kfold 2.')\n",
    "        hd6, = ax.plot(ac6, 'go', label = 'kfold 6.')\n",
    "        hd10, = ax.plot(ac10, 'ro', label = 'kfold 10.')\n",
    "        #escribo los valores del eje x.\n",
    "        ax.set_xticks(range(len(valores.index.get_values())))\n",
    "        ax.set_xticklabels(valores.index.get_values())\n",
    "        ax.legend(handles=[hd2, hd6, hd10], bbox_to_anchor=(1.05, 1), loc=2, borderaxespad=0.)\n",
    "\n",
    "        \n",
    "        ax.set_title(metrica+' con '+metodo+'.')\n",
    "\n",
    "        if(save):\n",
    "            fig.savefig(metrica+metodo+'orden'+str(orden[0])+'.png', bbox_inches=\"tight\")\n",
    "        plt.show()\n",
    "        \n",
    "def unir_folds(df):\n",
    "    aux = [x.split('\\n') for x in df.index.values]\n",
    "    \n",
    "    dataset = pd.DataFrame(columns = ['kfold 2', 'kfold 6', 'kfold 10','ind'])\n",
    "    \n",
    "    indice = []\n",
    "    folds = []\n",
    "    con_pca = False\n",
    "    for elem in aux:\n",
    "        if len(elem) == 3:\n",
    "            con_pca = True\n",
    "            folds.append(elem[2])\n",
    "            alphas = elem[1].split()\n",
    "            indice.append(elem[0]+'\\n$\\\\'+alphas[0]+'$ '+alphas[1])\n",
    "        else:\n",
    "            folds.append(elem[1])\n",
    "            indice.append(elem[0])\n",
    "            \n",
    "    df['kfold'] = folds\n",
    "    df['mini_indice'] = indice\n",
    "    grupos = df.groupby('mini_indice')\n",
    "    for mini, df_aux in grupos:\n",
    "        kf2 = df_aux.loc[df_aux['kfold'] == 'kfold 2'][0].get(0)\n",
    "        kf6 = df_aux.loc[df_aux['kfold'] == 'kfold 6'][0].get(0)\n",
    "        kf10 = df_aux.loc[df_aux['kfold'] == 'kfold 10'][0].get(0)\n",
    "        dic = {'kfold 2': kf2, 'kfold 6': kf6, 'kfold 10': kf10,'ind': mini}\n",
    "        dataset = dataset.append(dic, ignore_index = True)\n",
    "    \n",
    "    dataset.set_index(dataset['ind'].values, inplace = True)\n",
    "    knnpca = [(x.split('\\n')) for x in dataset['ind'].values]\n",
    "    if con_pca:\n",
    "        knn = [x[0] for x in knnpca]\n",
    "        knn_aux = [x.split() for x in knn]\n",
    "        knn = [int(x[1]) for x in knn_aux]\n",
    "        pca = [x[1] for x in knnpca]\n",
    "        pca_aux = [x.split() for x in pca]\n",
    "        pca = [int(x[1]) for x in pca_aux]\n",
    "    else:\n",
    "        knn = [x[0] for x in knnpca]\n",
    "        knn_aux = [x.split() for x in knn]\n",
    "        knn = [int(x[1]) for x in knn_aux]\n",
    "       \n",
    "        pca = [-30 for x in knn]\n",
    "\n",
    "        \n",
    "        \n",
    "    dataset['alpha'] = pca\n",
    "    dataset['knn'] = knn\n",
    "    dataset.drop('ind',axis = 1, inplace = True)\n",
    "    return dataset\n",
    "    "
   ]
  },
  {
   "cell_type": "markdown",
   "metadata": {},
   "source": [
    "## Accuracy de Knn con distintos hiperparametros\n",
    "\n",
    "#### Los graficos se ordenan de dos formas, agrupados por el knn y por el kfold"
   ]
  },
  {
   "cell_type": "code",
   "execution_count": 7,
   "metadata": {},
   "outputs": [
    {
     "name": "stdout",
     "output_type": "stream",
     "text": [
      "knn\n"
     ]
    },
    {
     "data": {
      "image/png": "[encoded data removed]",
      "text/plain": [
       "<matplotlib.figure.Figure at 0x7fe4bfc9d828>"
      ]
     },
     "metadata": {},
     "output_type": "display_data"
    },
    {
     "data": {
      "text/plain": [
       "<matplotlib.figure.Figure at 0x7fe4bfd6e400>"
      ]
     },
     "metadata": {},
     "output_type": "display_data"
    },
    {
     "name": "stdout",
     "output_type": "stream",
     "text": [
      "kfold\n"
     ]
    }
   ],
   "source": [
    "orden_knn = ['knn', 'alpha']\n",
    "orden_alpha = ['alpha','knn']\n",
    "ac = accuracy_metodos(nombres, lista_metodos)\n",
    "\n",
    "print(\"knn\")\n",
    "graficar(ac, \"Accuracy\", \"Knn\", True, list(orden_knn))\n",
    "print(\"kfold\")\n",
    "#graficar(ac, \"Accuracy\", \"Knn\", False, orden_kfold)"
   ]
  },
  {
   "cell_type": "markdown",
   "metadata": {},
   "source": [
    "Podemos ver, dos cosas, la primera es que el knn que nos conviene es el k = 6, ya que en cada kfold esta por arriba de los otros. La segunda es que no importa que knn eligamos todos los metodos tienen una accuracy decreciente por el tamaño del kfold, esto es un comportamiento extremadamente extraño.\n",
    "\n",
    "# Accuracy de Knn con PCA, para distintos parametros.\n",
    "\n",
    "### como tenemos muchos metodos, van a haber muchisimos graficos, vamos separar los datos en distintos knn y despues vamos a graficar con dos ordenes, el alpha y el kfold."
   ]
  },
  {
   "cell_type": "code",
   "execution_count": 8,
   "metadata": {
    "scrolled": false
   },
   "outputs": [
    {
     "name": "stdout",
     "output_type": "stream",
     "text": [
      "long metodos:  108\n",
      "[ 2  6 10 14]\n",
      "knn: 6\n",
      "alpha\n"
     ]
    },
    {
     "data": {
      "image/png": "[encoded data removed]",
      "text/plain": [
       "<matplotlib.figure.Figure at 0x7fe4bc769588>"
      ]
     },
     "metadata": {},
     "output_type": "display_data"
    },
    {
     "data": {
      "text/plain": [
       "<matplotlib.figure.Figure at 0x7fe4bc68fc88>"
      ]
     },
     "metadata": {},
     "output_type": "display_data"
    },
    {
     "data": {
      "image/png": "[encoded data removed]",
      "text/plain": [
       "<matplotlib.figure.Figure at 0x7fe4bc717a20>"
      ]
     },
     "metadata": {},
     "output_type": "display_data"
    },
    {
     "data": {
      "text/plain": [
       "<matplotlib.figure.Figure at 0x7fe4bc7c5470>"
      ]
     },
     "metadata": {},
     "output_type": "display_data"
    }
   ],
   "source": [
    "print('long metodos: ', len(lista_metodos_pca))\n",
    "ac_pca = accuracy_metodos(nombres_pca, lista_metodos_pca)\n",
    "knns = ac_pca.knn.unique()\n",
    "print(knns)\n",
    "k = 4\n",
    "\n",
    "for k in [6]:\n",
    "    print(\"knn: \" +str(k))    \n",
    "    ac_aux = ac_pca[ac_pca.knn == k] \n",
    "    print(\"alpha\")\n",
    "    orden_aux = list(orden_alpha)\n",
    "    graficar(ac_aux, \"Accuracy\", \"Knn con PCA\", True, orden_aux)\n",
    "    #print(\"kfold\")\n",
    "    #graficar_orden_kfold(ac_aux, \"Accuracy\", \"Knn con PCA\")\n",
    "\n",
    "    \n",
    "ac_rango = ac_pca[ac_pca.alpha <= 70]\n",
    "graficar(ac_rango, \"Accuracy\", \"Knn con PCA\", True, list(orden_alpha))\n",
    "\n",
    "#for k in knns:\n",
    "#    print(\"knn: \" +str(k))    \n",
    "#    ac_aux = ac_pca[ac_pca.alpha == 60]\n",
    "#    print(\"alpha\")\n",
    "#    graficar(ac_aux, \"Accuracy\", \"Knn con PCA\", False, orden_kfold)\n",
    "\n",
    "#ac_aux = ac_pca[ac_pca.alpha == 60] \n",
    "#print(\"alpha\")\n",
    "#graficar(ac_aux, \"Accuracy\", \"Knn con PCA\", False, orden_kfold)\n"
   ]
  },
  {
   "cell_type": "markdown",
   "metadata": {},
   "source": [
    "# calculamos F1 score\n",
    "\n",
    "(esto es para mostrar lo que podemos hacer, es decir hice F1, pero podriamos haber hecho otra cosa)\n",
    "\n",
    "## En este segmento vamos a calcular la F1 score M\n",
    "### esto nos da un F1 score unificada para las 10 clases. es decir tenemos un valor por cada matriz que genera el kfold. Al tener un valor unificado, podemos ver como se comporta nuestros distintos algoritmos con un violin plot, de manera mas resumida. perdemos información, pero es mas fácil de disernir"
   ]
  },
  {
   "cell_type": "code",
   "execution_count": 9,
   "metadata": {},
   "outputs": [
    {
     "name": "stdout",
     "output_type": "stream",
     "text": [
      "knn\n"
     ]
    },
    {
     "data": {
      "image/png": "[encoded data removed]",
      "text/plain": [
       "<matplotlib.figure.Figure at 0x7fe4bc314c18>"
      ]
     },
     "metadata": {},
     "output_type": "display_data"
    },
    {
     "data": {
      "text/plain": [
       "<matplotlib.figure.Figure at 0x7fe4bc2626d8>"
      ]
     },
     "metadata": {},
     "output_type": "display_data"
    }
   ],
   "source": [
    "ac = F1_metodos(nombres, lista_metodos)\n",
    "print(\"knn\")\n",
    "graficar(ac, \"F1 score\", \"Knn\", False, list(orden_knn))"
   ]
  },
  {
   "cell_type": "code",
   "execution_count": 10,
   "metadata": {
    "scrolled": false
   },
   "outputs": [
    {
     "name": "stdout",
     "output_type": "stream",
     "text": [
      "knn: 2\n"
     ]
    },
    {
     "data": {
      "image/png": "[encoded data removed]",
      "text/plain": [
       "<matplotlib.figure.Figure at 0x7fe4bc3064e0>"
      ]
     },
     "metadata": {},
     "output_type": "display_data"
    },
    {
     "data": {
      "text/plain": [
       "<matplotlib.figure.Figure at 0x7fe4bbcf2828>"
      ]
     },
     "metadata": {},
     "output_type": "display_data"
    },
    {
     "name": "stdout",
     "output_type": "stream",
     "text": [
      "knn: 6\n"
     ]
    },
    {
     "data": {
      "image/png": "[encoded data removed]",
      "text/plain": [
       "<matplotlib.figure.Figure at 0x7fe4bbcba198>"
      ]
     },
     "metadata": {},
     "output_type": "display_data"
    },
    {
     "data": {
      "text/plain": [
       "<matplotlib.figure.Figure at 0x7fe4bbbed518>"
      ]
     },
     "metadata": {},
     "output_type": "display_data"
    },
    {
     "name": "stdout",
     "output_type": "stream",
     "text": [
      "knn: 10\n"
     ]
    },
    {
     "data": {
      "image/png": "[encoded data removed]",
      "text/plain": [
       "<matplotlib.figure.Figure at 0x7fe4bbb92ba8>"
      ]
     },
     "metadata": {},
     "output_type": "display_data"
    },
    {
     "data": {
      "text/plain": [
       "<matplotlib.figure.Figure at 0x7fe4bbae2400>"
      ]
     },
     "metadata": {},
     "output_type": "display_data"
    },
    {
     "name": "stdout",
     "output_type": "stream",
     "text": [
      "knn: 14\n"
     ]
    },
    {
     "data": {
      "image/png": "[encoded data removed]",
      "text/plain": [
       "<matplotlib.figure.Figure at 0x7fe4bbbb35f8>"
      ]
     },
     "metadata": {},
     "output_type": "display_data"
    },
    {
     "data": {
      "text/plain": [
       "<matplotlib.figure.Figure at 0x7fe4bba54b70>"
      ]
     },
     "metadata": {},
     "output_type": "display_data"
    },
    {
     "data": {
      "image/png": "[encoded data removed]",
      "text/plain": [
       "<matplotlib.figure.Figure at 0x7fe4bba0d3c8>"
      ]
     },
     "metadata": {},
     "output_type": "display_data"
    },
    {
     "data": {
      "text/plain": [
       "<matplotlib.figure.Figure at 0x7fe4bb946048>"
      ]
     },
     "metadata": {},
     "output_type": "display_data"
    }
   ],
   "source": [
    "ac_pca = F1_metodos(nombres_pca, lista_metodos_pca)\n",
    "knns = ac_pca.knn.unique()\n",
    "\n",
    "\n",
    "for k in knns:\n",
    "    print(\"knn: \" +str(k))    \n",
    "    ac_aux = ac_pca[ac_pca.knn == k] \n",
    "    graficar(ac_aux,  \"F 1 score\", \"Knn con PCA\", False, list(orden_alpha))\n",
    "\n",
    "ac_rango = ac_pca[ac_pca.alpha <= 70]\n",
    "graficar(ac_rango, \"F 1 score\", \"Knn con PCA\", False, list(orden_alpha))\n"
   ]
  },
  {
   "cell_type": "markdown",
   "metadata": {},
   "source": [
    "# Vemos KNN MOD"
   ]
  },
  {
   "cell_type": "code",
   "execution_count": 11,
   "metadata": {
    "collapsed": true,
    "scrolled": false
   },
   "outputs": [],
   "source": [
    "#ac = accuracy_metodos(nombres_mod, lista_metodos_mod)\n",
    "#ac\n",
    "#print(\"knn\")\n",
    "#graficar_orden_knn(ac, \"Accuracy\", \"Knn Modificado \", False)\n",
    "#print(\"kfold\")\n",
    "#graficar_orden_kfold(ac, \"Accuracy\", \"Knn\", False)\n",
    "#desvio, promedio, df = F_score_mat(1, lista_metodos_mod[1])\n",
    "#sns.violinplot(df.transpose())\n",
    "#plt.xlabel(\"clases\")\n",
    "#plt.title(titulos(nombres_mod[1]))\n",
    "#plt.show()"
   ]
  },
  {
   "cell_type": "markdown",
   "metadata": {},
   "source": [
    "### Malo"
   ]
  },
  {
   "cell_type": "markdown",
   "metadata": {},
   "source": [
    "# nos quedamos con los preseleccionados.\n",
    "\n",
    "### KNN = [6]\n",
    "### KNNPCA = [(2, 60),(6, 60), (10, 60)]\n",
    "### KNNMOD = []"
   ]
  },
  {
   "cell_type": "code",
   "execution_count": 12,
   "metadata": {
    "collapsed": true
   },
   "outputs": [],
   "source": [
    "#nombres_pca, lista_metodos_pca\n",
    "#nombres, lista_metodos\n",
    "nombres_preselec = []\n",
    "lista_metodos_preselec = []\n",
    "for i in range(len(nombres)):\n",
    "    if(nombres[i][1] == 'k 6'):\n",
    "        nombres_preselec.append(nombres[i])\n",
    "        lista_metodos_preselec.append(lista_metodos[i])\n",
    "        \n",
    "        \n",
    "for i in range(len(nombres_pca)):\n",
    "    if(nombres_pca[i][2] == 'alpha 60'):\n",
    "        nombres_preselec.append(nombres_pca[i])\n",
    "        lista_metodos_preselec.append(lista_metodos_pca[i])\n"
   ]
  },
  {
   "cell_type": "code",
   "execution_count": 13,
   "metadata": {},
   "outputs": [
    {
     "name": "stdout",
     "output_type": "stream",
     "text": [
      "knn\n"
     ]
    },
    {
     "ename": "NameError",
     "evalue": "name 'graficar_orden_alpha' is not defined",
     "output_type": "error",
     "traceback": [
      "\u001b[0;31m---------------------------------------------------------------------------\u001b[0m",
      "\u001b[0;31mNameError\u001b[0m                                 Traceback (most recent call last)",
      "\u001b[0;32m<ipython-input-13-47b1cef512a7>\u001b[0m in \u001b[0;36m<module>\u001b[0;34m()\u001b[0m\n\u001b[1;32m      2\u001b[0m \u001b[0mac\u001b[0m \u001b[0;34m=\u001b[0m \u001b[0mac\u001b[0m\u001b[0;34m[\u001b[0m\u001b[0mac\u001b[0m\u001b[0;34m.\u001b[0m\u001b[0mkfold\u001b[0m \u001b[0;34m==\u001b[0m \u001b[0;36m6\u001b[0m\u001b[0;34m]\u001b[0m\u001b[0;34m\u001b[0m\u001b[0m\n\u001b[1;32m      3\u001b[0m \u001b[0mprint\u001b[0m\u001b[0;34m(\u001b[0m\u001b[0;34m\"knn\"\u001b[0m\u001b[0;34m)\u001b[0m\u001b[0;34m\u001b[0m\u001b[0m\n\u001b[0;32m----> 4\u001b[0;31m \u001b[0mgraficar_orden_alpha\u001b[0m\u001b[0;34m(\u001b[0m\u001b[0mac\u001b[0m\u001b[0;34m,\u001b[0m \u001b[0;34m\"Accuracy\"\u001b[0m\u001b[0;34m,\u001b[0m \u001b[0;34m\"Knn/Knn con PCA\"\u001b[0m\u001b[0;34m,\u001b[0m \u001b[0;32mFalse\u001b[0m\u001b[0;34m)\u001b[0m\u001b[0;34m\u001b[0m\u001b[0m\n\u001b[0m",
      "\u001b[0;31mNameError\u001b[0m: name 'graficar_orden_alpha' is not defined"
     ]
    }
   ],
   "source": [
    "ac = accuracy_metodos(nombres_preselec, lista_metodos_preselec)\n",
    "ac = ac[ac.kfold == 6]\n",
    "print(\"knn\")\n",
    "graficar_orden_alpha(ac, \"Accuracy\", \"Knn/Knn con PCA\", False)"
   ]
  },
  {
   "cell_type": "code",
   "execution_count": null,
   "metadata": {
    "collapsed": true,
    "scrolled": false
   },
   "outputs": [],
   "source": [
    "ac = F1_metodos(nombres_preselec, lista_metodos_preselec)\n",
    "#ac = ac[ac.kfold == 6]\n",
    "ac_2 = ac[ac.kfold == 2]\n",
    "ac_6 = ac[ac.kfold == 6]\n",
    "ac_10 = ac[ac.kfold == 10]\n",
    "\n",
    "graficar_orden_alpha(ac_2, \"F1 score\", \"Knn/Knn PCA\", False)\n",
    "graficar_orden_alpha(ac_6, \"F1 score\", \"Knn/Knn PCA\", False)\n",
    "graficar_orden_alpha(ac_10, \"F1 score\", \"Knn/Knn PCA\", False)"
   ]
  },
  {
   "cell_type": "markdown",
   "metadata": {},
   "source": [
    "## ahora calcula mos el F1 score para cada clase\n",
    "\n",
    "### esto nos deja ver el comportamiento de cada clase por separado, todavia no se que es mejor, tener graficos por clase y en ellos cada variante de nuestro algoritmo O tener graficos por algoritmos para ver como se comportan las calses en un algoritmo dado. Aunque estos graficos tengan escencialemente la misma información, se ven dos cosas distintas... asi que no se, por ahora voy a dejar las dos opciones\n",
    "\n",
    "## grafico por algoritmo"
   ]
  },
  {
   "cell_type": "code",
   "execution_count": null,
   "metadata": {
    "collapsed": true
   },
   "outputs": [],
   "source": [
    "def titulos(lista_variables):\n",
    "    etiqueta = ''\n",
    "    if lista_variables[0] == 'KNN':\n",
    "        etiqueta +='Knn ' + str(lista_variables[1])\n",
    "    if lista_variables[0] =='KNNPCA':\n",
    "        etiqueta += 'Knn con PCA '+str(lista_variables[1])+' '+str(lista_variables[2])\n",
    "    if lista_variables[0] == 'KNNMODPCA':\n",
    "        etiqueta +='Knn modificado '+ str(lista_variables[2])\n",
    "    etiqueta += ' '+ str(lista_variables[3])\n",
    "    return etiqueta"
   ]
  },
  {
   "cell_type": "code",
   "execution_count": null,
   "metadata": {
    "collapsed": true,
    "scrolled": true
   },
   "outputs": [],
   "source": [
    "fold = ['kfold 2','kfold 6','kfold 10']\n",
    "for k in fold:\n",
    "    print(k)\n",
    "    for i in range(len(nombres_preselec)):\n",
    "        if(nombres_preselec[i][3] == k):\n",
    "            desvio, promedio, df = F_score_mat(1, lista_metodos_preselec[i])\n",
    "            sns.violinplot(df.transpose())\n",
    "            plt.xlabel(\"clases\")\n",
    "            plt.title(titulos(nombres_preselec[i]))\n",
    "            plt.show()"
   ]
  },
  {
   "cell_type": "markdown",
   "metadata": {},
   "source": [
    "## por clase"
   ]
  },
  {
   "cell_type": "code",
   "execution_count": null,
   "metadata": {
    "collapsed": true
   },
   "outputs": [],
   "source": [
    "clases_2 = [[] for x in range(10)]\n",
    "etiquetas_2 = []\n",
    "clases_6 = [[] for x in range(10)]\n",
    "etiquetas_6 = []\n",
    "clases_10 = [[] for x in range(10)]\n",
    "etiquetas_10 = []\n",
    "for i in range(len(nombres_preselec)):\n",
    "    if(nombres_preselec[i][3] == 'kfold 6'):\n",
    "        desvio, promedio, df = F_score_mat(1, lista_metodos_preselec[i])\n",
    "        etiqueta = tags(nombres_preselec[i])\n",
    "        etiquetas_6.append(etiqueta)\n",
    "        for j in df.index:\n",
    "            aux = df.iloc[j].to_frame()\n",
    "            clases_6[j].append(aux)\n",
    "    if(nombres_preselec[i][3] == 'kfold 2'):\n",
    "        desvio, promedio, df = F_score_mat(1, lista_metodos_preselec[i])\n",
    "        etiqueta = tags(nombres_preselec[i])\n",
    "        etiquetas_2.append(etiqueta)\n",
    "        for j in df.index:\n",
    "            aux = df.iloc[j].to_frame()\n",
    "            clases_2[j].append(aux)\n",
    "    if(nombres_preselec[i][3] == 'kfold 10'):\n",
    "        desvio, promedio, df = F_score_mat(1, lista_metodos_preselec[i])\n",
    "        etiqueta = tags(nombres_preselec[i])\n",
    "        etiquetas_10.append(etiqueta)\n",
    "        for j in df.index:\n",
    "            aux = df.iloc[j].to_frame()\n",
    "            clases_10[j].append(aux)\n",
    "            "
   ]
  },
  {
   "cell_type": "code",
   "execution_count": null,
   "metadata": {
    "collapsed": true,
    "scrolled": true
   },
   "outputs": [],
   "source": [
    "for i in range(10):\n",
    "    data = pd.concat(clases_2[i], axis = 1)\n",
    "    data.columns = etiquetas_2\n",
    "    sns.violinplot(data)\n",
    "    plt.title('clase '+str(i)+' fold 2.')\n",
    "    plt.show()"
   ]
  },
  {
   "cell_type": "code",
   "execution_count": null,
   "metadata": {
    "collapsed": true,
    "scrolled": true
   },
   "outputs": [],
   "source": [
    "for i in range(10):\n",
    "    data = pd.concat(clases_6[i], axis = 1)\n",
    "    data.columns = etiquetas_6\n",
    "    sns.violinplot(data)\n",
    "    plt.title('clase '+str(i)+' fold 6.')\n",
    "    plt.show()"
   ]
  },
  {
   "cell_type": "code",
   "execution_count": null,
   "metadata": {
    "collapsed": true
   },
   "outputs": [],
   "source": [
    "for i in range(10):\n",
    "    data = pd.concat(clases_10[i], axis = 1)\n",
    "    data.columns = etiquetas_10\n",
    "    sns.violinplot(data)\n",
    "    plt.title('clase '+str(i)+' fold 10.')\n",
    "    plt.show()"
   ]
  },
  {
   "cell_type": "markdown",
   "metadata": {},
   "source": [
    "### Como podemos observar, ningun metodo es superior a todos los demas para todas las clases. Esto nos da un nuevo metodo, como un meta KNN donde agarramos varios knn y cada uno va a dar un resultado, dependiendo de que tan bien se comportaba en la clase que predijo tiene un voto pesado y hay una democracia ponderada"
   ]
  },
  {
   "cell_type": "code",
   "execution_count": null,
   "metadata": {
    "collapsed": true
   },
   "outputs": [],
   "source": [
    "def valor_ponderado_clase(metodo_clases, i):\n",
    "    promedios = []\n",
    "    for elem in metodo_clases:\n",
    "        aux = (elem.mean()).get(i)\n",
    "        promedios.append(aux)\n",
    "    minimo = min(promedios)\n",
    "    maximo = max(promedios)\n",
    "    dif = int((maximo - minimo)*1000)\n",
    "    \n",
    "    return dif\n",
    "\n",
    "def puntaje_clase(metodo_clase, i):\n",
    "    ponderado = valor_ponderado_clase(metodo_clase, i)\n",
    "    promedios = []\n",
    "    for elem in metodo_clase:\n",
    "        aux = (elem.mean()).get(i)\n",
    "        \n",
    "        promedios.append(aux)\n",
    "    promedios = np.array(promedios)\n",
    "    index = np.argsort(promedios)\n",
    "    puntajes = [0 for x in range(len(metodo_clase))]\n",
    "    punto = 1\n",
    "    for i in index:\n",
    "        puntajes[i] = punto * ponderado\n",
    "        punto += 1\n",
    "    return puntajes"
   ]
  },
  {
   "cell_type": "markdown",
   "metadata": {},
   "source": [
    "## Para elegir el algoritmo decidimos, hacer unas cuentas locas, explicadas en el informe... aca estan."
   ]
  },
  {
   "cell_type": "code",
   "execution_count": null,
   "metadata": {
    "collapsed": true
   },
   "outputs": [],
   "source": [
    "datos = []\n",
    "for i in range(len(clases_2)):\n",
    "    puntaje = puntaje_clase(clases_2[i], i)\n",
    "    datos.append(puntaje)"
   ]
  },
  {
   "cell_type": "code",
   "execution_count": null,
   "metadata": {
    "collapsed": true,
    "scrolled": false
   },
   "outputs": [],
   "source": [
    "df = pd.DataFrame(datos)\n",
    "#los puntajes por clases\n",
    "print(df)\n",
    "#el podio\n",
    "print(df.sum())\n",
    "print(etiquetas_2[1])"
   ]
  },
  {
   "cell_type": "code",
   "execution_count": null,
   "metadata": {
    "collapsed": true
   },
   "outputs": [],
   "source": [
    "datos = []\n",
    "for i in range(len(clases_6)):\n",
    "    puntaje = puntaje_clase(clases_6[i], i)\n",
    "    datos.append(puntaje)\n",
    "    "
   ]
  },
  {
   "cell_type": "code",
   "execution_count": null,
   "metadata": {
    "collapsed": true
   },
   "outputs": [],
   "source": [
    "df = pd.DataFrame(datos)\n",
    "#los puntajes por clases\n",
    "print(df)\n",
    "#el podio\n",
    "print(df.sum())\n",
    "print(etiquetas_6[3])"
   ]
  },
  {
   "cell_type": "code",
   "execution_count": null,
   "metadata": {
    "collapsed": true
   },
   "outputs": [],
   "source": [
    "datos = []\n",
    "for i in range(len(clases_10)):\n",
    "    puntaje = puntaje_clase(clases_10[i], i)\n",
    "    datos.append(puntaje)"
   ]
  },
  {
   "cell_type": "code",
   "execution_count": null,
   "metadata": {
    "collapsed": true
   },
   "outputs": [],
   "source": [
    "    \n",
    "df = pd.DataFrame(datos)\n",
    "#los puntajes por clases\n",
    "print(df)\n",
    "#el podio\n",
    "print(df.sum())\n",
    "print(etiquetas_10[1])"
   ]
  },
  {
   "cell_type": "markdown",
   "metadata": {},
   "source": [
    "# Simetría"
   ]
  },
  {
   "cell_type": "code",
   "execution_count": null,
   "metadata": {
    "collapsed": true
   },
   "outputs": [],
   "source": [
    "nombres_preselec[-2]\n",
    "final = lista_metodos_preselec[-2]\n",
    "des, prom, acu = accuracy_mat(final)"
   ]
  },
  {
   "cell_type": "code",
   "execution_count": null,
   "metadata": {
    "collapsed": true,
    "scrolled": true
   },
   "outputs": [],
   "source": [
    "\n"
   ]
  },
  {
   "cell_type": "code",
   "execution_count": null,
   "metadata": {
    "collapsed": true
   },
   "outputs": [],
   "source": [
    "peor = final[3]\n",
    "mejor = final[1]\n",
    "peor_aux = peor.copy(deep = False)\n",
    "np.fill_diagonal(peor_aux.values, 0)\n",
    "sim_peor = ver_simetria(peor)\n",
    "\n",
    "sns.heatmap(data = sim_peor, annot = peor_aux, cmap = \"Blues\", fmt = 'g',cbar_kws={'label': 'grado de semejanza'})\n",
    "plt.xlabel(\"predición\")\n",
    "plt.ylabel(\"clase real\")\n",
    "plt.yticks(rotation=0)\n",
    "plt.title(\"alpha: 60 k: 6 peor accuracy.\")\n",
    "plt.savefig('peor_heatmap.png')\n",
    "plt.show()"
   ]
  },
  {
   "cell_type": "code",
   "execution_count": null,
   "metadata": {
    "collapsed": true
   },
   "outputs": [],
   "source": [
    "peor"
   ]
  },
  {
   "cell_type": "code",
   "execution_count": null,
   "metadata": {
    "collapsed": true
   },
   "outputs": [],
   "source": [
    "mejor_aux = mejor.copy(deep = False)\n",
    "np.fill_diagonal(mejor_aux.values, 0)\n",
    "sim_mejor = ver_simetria(mejor)\n",
    "\n",
    "sns.heatmap(data = sim_mejor, annot = mejor_aux, cmap = \"Blues\", fmt = 'g',cbar_kws={'label': 'grado de semejanza'})\n",
    "plt.xlabel(\"predición\")\n",
    "plt.ylabel(\"clase real\")\n",
    "plt.yticks(rotation=0)\n",
    "plt.title(\"alpha: 60 k: 6 mejor accuracy.\")\n",
    "plt.savefig('mejor_heatmap.png')\n",
    "plt.show()"
   ]
  },
  {
   "cell_type": "code",
   "execution_count": null,
   "metadata": {
    "collapsed": true
   },
   "outputs": [],
   "source": [
    "mejor"
   ]
  },
  {
   "cell_type": "markdown",
   "metadata": {},
   "source": [
    "La idea de este heatmap es ver si cuando si se confunde de la misma forma, ejempo, tengo una foto de un 5 y me dice que es un 6, quiero ver si cuando mira una foto de un 6 se confunde masomenos la misma cantidad de veces.\n",
    "Para hacer eso, agarra la matriz y le reste su traspuesta, es decir A(i,j) - A(j, i) cuanto mas cercano a cero es mas similares son las prediciones de ambos lados, si es muy positivo, es por que predice mas veces A(i,j) y cuando es negativo predice mas veces A(j, i).\n",
    "Lo que nos faltaria ver, para que este grafico este piola, serian los valores reales de cada posicion. Creo que se entiende por que... Si en la posicion A(9,7) esta asi por que en realidad habia un 6 ahi y un 0 en la pos (7,9) entonces es un indicador de que no se confunde de la misma forma el 7 con el nueve que el 9 con el 7... pero si habia 600, eso implica que en la posicion A(7,9) habia 594 y eso diria que se confunden relativamente igual. Hay se ve un poco mejor(dejo esto para que entiendan los numeros y esas cosas)\n",
    "Saque la diagonal por que... es obvio que da 0 y ensucia un grafico que ya esta bastante cargado."
   ]
  },
  {
   "cell_type": "code",
   "execution_count": null,
   "metadata": {
    "collapsed": true
   },
   "outputs": [],
   "source": [
    "#plt.plot(tiempos, )x"
   ]
  }
 ],
 "metadata": {
  "kernelspec": {
   "display_name": "Python 3",
   "language": "python",
   "name": "python3"
  },
  "language_info": {
   "codemirror_mode": {
    "name": "ipython",
    "version": 3
   },
   "file_extension": ".py",
   "mimetype": "text/x-python",
   "name": "python",
   "nbconvert_exporter": "python",
   "pygments_lexer": "ipython3",
   "version": "3.6.1"
  }
 },
 "nbformat": 4,
 "nbformat_minor": 2
}

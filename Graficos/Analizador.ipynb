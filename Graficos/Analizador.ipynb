{
 "cells": [
  {
   "cell_type": "code",
   "execution_count": 2,
   "metadata": {
    "collapsed": true
   },
   "outputs": [],
   "source": [
    "import numpy as np\n",
    "import scipy as sp\n",
    "import matplotlib.pyplot as plt\n",
    "import seaborn as sns\n",
    "import pandas as pd\n",
    "import random\n",
    "import sklearn.metrics as sk\n",
    "import os"
   ]
  },
  {
   "cell_type": "code",
   "execution_count": 3,
   "metadata": {
    "collapsed": true
   },
   "outputs": [],
   "source": [
    "def cargar_datos():\n",
    "    lista_nombres = []\n",
    "    lista_metodos_matrices=[]\n",
    "    metodos = os.listdir('./informacion')\n",
    "    for metodo in metodos:\n",
    "        matrices = pd.read_csv('./informacion/'+metodo)\n",
    "        matrices = procesar_input(matrices)\n",
    "        lista_metodos_matrices.append(matrices)\n",
    "        metodo = metodo[:-4]\n",
    "        metodo = metodo.replace('_', ' ')\n",
    "        aux = metodo.split('-')\n",
    "        sup = aux[0].split(' ', 1)\n",
    "        aux = sup + aux[1:]\n",
    "        lista_nombres.append(aux)\n",
    "    return(lista_nombres, lista_metodos_matrices)\n"
   ]
  },
  {
   "cell_type": "code",
   "execution_count": 4,
   "metadata": {
    "collapsed": true
   },
   "outputs": [],
   "source": [
    "def procesar_input(matrices_de_confusion):\n",
    "    lista_matrices  = []\n",
    "    for i in matrices_de_confusion.index:\n",
    "        matriz_aux = (matrices_de_confusion.iloc[[i]]).values\n",
    "        matriz_aux = matriz_aux.reshape(10,10)\n",
    "        df_matriz = pd.DataFrame(data = matriz_aux)\n",
    "        lista_matrices.append(df_matriz)\n",
    "    return lista_matrices\n",
    "\n",
    "def ver_simetria(matriz):\n",
    "    matriz = matriz\n",
    "    matriz_Trans = matriz.transpose()\n",
    "    return (matriz - matriz_Trans).abs()\n",
    "\n",
    "def accuracy(mat):\n",
    "    dividendo = (pd.Series(np.diag(mat), index=[mat.index, mat.columns])).sum()\n",
    "    aux =  dividendo / (mat.sum()).sum() \n",
    "    df = pd.DataFrame([aux], columns = ['accuracy'])\n",
    "    promedio = df.mean()\n",
    "    desvio = df.std()\n",
    "    return (desvio, promedio, df)\n",
    "\n",
    "def accuracy_mat(lista_mat):\n",
    "    desvio =pd.DataFrame()\n",
    "    promedio = pd.DataFrame()\n",
    "    df = pd.DataFrame()\n",
    "     \n",
    "    for i in range(len(lista_mat)):\n",
    "        desvio_aux, promedio_aux, accuracy_aux = accuracy(lista_mat[i])\n",
    "        desvio['mat'+str(i)] = desvio_aux\n",
    "        promedio['mat'+str(i)] = promedio_aux\n",
    "        df['mat'+str(i)] = accuracy_aux\n",
    "    \n",
    "    return (desvio, promedio, df)\n",
    "\n",
    "\n",
    "\n",
    "def precision_clase(mat, clase):\n",
    "    dividendo = mat.iat[clase, clase]\n",
    "    divisor = mat[clase].sum()\n",
    "    return dividendo/divisor\n",
    "\n",
    "def precision(mat):\n",
    "    prec = []\n",
    "    for i in range(10):\n",
    "        aux = precision_clase(mat,i)\n",
    "        prec.append(aux)\n",
    "    df = pd.DataFrame(prec, columns = ['precision'])\n",
    "    promedio = df.mean()\n",
    "    desvio = df.std()\n",
    "    return (desvio, promedio, df)\n",
    "\n",
    "#precisionM es el parametro promedio que devolvemos\n",
    "def precision_mat(lista_mat):\n",
    "    desvio =pd.DataFrame()\n",
    "    promedio = pd.DataFrame()\n",
    "    df = pd.DataFrame()\n",
    "     \n",
    "    for i in range(len(lista_mat)):\n",
    "        desvio_aux, promedio_aux, precision_aux = precision(lista_mat[i])\n",
    "        desvio['mat'+str(i)] = desvio_aux\n",
    "        promedio['mat'+str(i)] = promedio_aux\n",
    "        df['mat'+str(i)] = precision_aux\n",
    "    \n",
    "    return (desvio, promedio, df)\n",
    "\n",
    "def recall_clase(mat, clase):\n",
    "    dividendo = mat.iat[clase, clase]\n",
    "    divisor = mat.iloc[clase].sum()\n",
    "    return dividendo/divisor\n",
    "    \n",
    "def recall(mat):\n",
    "    rec = []\n",
    "    for i in range(10):\n",
    "        aux = recall_clase(mat, i)\n",
    "        rec.append(aux)\n",
    "    df = pd.DataFrame(rec, columns = ['recall'])\n",
    "    promedio = df.mean()\n",
    "    desvio = df.std()\n",
    "    return (desvio, promedio, df)\n",
    "\n",
    "#RecallM es el parametro promedio que devolvemos\n",
    "def recall_mat(lista_mat):\n",
    "    desvio =pd.DataFrame()\n",
    "    promedio = pd.DataFrame()\n",
    "    df = pd.DataFrame()\n",
    "     \n",
    "    for i in range(len(lista_mat)):\n",
    "        desvio_aux, promedio_aux, recall_aux = recall(lista_mat[i])\n",
    "        desvio['mat'+str(i)] = desvio_aux\n",
    "        promedio['mat'+str(i)] = promedio_aux\n",
    "        df['mat'+str(i)] = recall_aux\n",
    "    \n",
    "    return (desvio, promedio, df)\n",
    "\n",
    "def F_score_clase(beta, mat, clase):\n",
    "    prec = precision_clase(mat, clase)\n",
    "    rec = recall_clase(mat, clase)\n",
    "    dividendo = (beta**2 + 1) * prec*rec\n",
    "    divisor = beta**2 * (prec + rec)\n",
    "    return dividendo/divisor\n",
    "\n",
    "def F_score(beta, mat):\n",
    "    rec = []\n",
    "    for i in range(10):\n",
    "        aux = F_score_clase(beta, mat, i)\n",
    "        rec.append(aux)\n",
    "    df = pd.DataFrame(rec, columns = ['F'+str(beta)+'_score'])\n",
    "    promedio = df.mean()\n",
    "    desvio = df.std()\n",
    "    return (desvio, promedio, df)\n",
    "\n",
    "def F_score_mat(beta, lista_mat):\n",
    "    desvio =pd.DataFrame()\n",
    "    promedio = pd.DataFrame()\n",
    "    df = pd.DataFrame()\n",
    "     \n",
    "    for i in range(len(lista_mat)):\n",
    "        desvio_aux, promedio_aux, f_score_aux = F_score(beta, lista_mat[i])\n",
    "        desvio['mat'+str(i)] = desvio_aux\n",
    "        promedio['mat'+str(i)] = promedio_aux\n",
    "        df['mat'+str(i)] = f_score_aux\n",
    "    \n",
    "    return (desvio, promedio, df)\n",
    "\n",
    "def F_score_M(beta, lista_mat):\n",
    "    desvio, precision_M, df = precision_mat(lista_mat)\n",
    "    desvio, recall_M, df = recall_mat(lista_mat)\n",
    "    precision_M.index = [0]\n",
    "    recall_M.index = [0]\n",
    "    dividendo = (beta**2 + 1)*precision_M * recall_M\n",
    "    divisor = (beta**2 * precision_M) +recall_M\n",
    "    return dividendo/divisor"
   ]
  },
  {
   "cell_type": "code",
   "execution_count": 5,
   "metadata": {
    "collapsed": true
   },
   "outputs": [],
   "source": [
    "#k_fold lineas donde la linea i es una matriz de confusion de la i_esima iteracion de k_fold\n",
    "nombres, lista_metodos = cargar_datos()"
   ]
  },
  {
   "cell_type": "code",
   "execution_count": 6,
   "metadata": {},
   "outputs": [
    {
     "ename": "NameError",
     "evalue": "name 'matrices' is not defined",
     "output_type": "error",
     "traceback": [
      "\u001b[0;31m---------------------------------------------------------------------------\u001b[0m",
      "\u001b[0;31mNameError\u001b[0m                                 Traceback (most recent call last)",
      "\u001b[0;32m<ipython-input-6-2dd964bf9320>\u001b[0m in \u001b[0;36m<module>\u001b[0;34m()\u001b[0m\n\u001b[0;32m----> 1\u001b[0;31m \u001b[0mbla\u001b[0m\u001b[0;34m,\u001b[0m \u001b[0mbls\u001b[0m\u001b[0;34m,\u001b[0m \u001b[0mdf\u001b[0m \u001b[0;34m=\u001b[0m \u001b[0maccuracy_mat\u001b[0m\u001b[0;34m(\u001b[0m\u001b[0mmatrices\u001b[0m\u001b[0;34m)\u001b[0m\u001b[0;34m\u001b[0m\u001b[0m\n\u001b[0m\u001b[1;32m      2\u001b[0m \u001b[0mdf\u001b[0m\u001b[0;34m\u001b[0m\u001b[0m\n",
      "\u001b[0;31mNameError\u001b[0m: name 'matrices' is not defined"
     ]
    }
   ],
   "source": [
    "bla, bls, df = accuracy_mat(matrices)\n",
    "df"
   ]
  },
  {
   "cell_type": "code",
   "execution_count": null,
   "metadata": {
    "collapsed": true
   },
   "outputs": [],
   "source": [
    "for mat in matrices:\n",
    "    sns.heatmap(mat)\n",
    "    plt.show()"
   ]
  },
  {
   "cell_type": "code",
   "execution_count": null,
   "metadata": {
    "collapsed": true
   },
   "outputs": [],
   "source": [
    "for mat in mat_KNN_mod:\n",
    "    sns.heatmap(mat, annot = True)\n",
    "    plt.show()"
   ]
  },
  {
   "cell_type": "code",
   "execution_count": null,
   "metadata": {
    "collapsed": true
   },
   "outputs": [],
   "source": [
    "for mat in mat_KNN:\n",
    "    sns.heatmap(mat, annot = True)\n",
    "    plt.show()"
   ]
  },
  {
   "cell_type": "code",
   "execution_count": null,
   "metadata": {
    "collapsed": true
   },
   "outputs": [],
   "source": [
    "prom = matrices[0]\n",
    "#prom, desvio =  unificar_matrices(matrices)\n",
    "sns.heatmap(prom, cmap = \"Reds\", annot = True)\n",
    "plt.yticks(rotation=0)\n",
    "plt.show()\n",
    "\n",
    "prom2 = matrices[0].copy(deep = True)\n",
    "np.fill_diagonal(prom2.values, 0)\n",
    "sns.heatmap(prom2)\n",
    "plt.yticks(rotation=0)\n",
    "plt.show()"
   ]
  },
  {
   "cell_type": "code",
   "execution_count": null,
   "metadata": {
    "collapsed": true,
    "scrolled": false
   },
   "outputs": [],
   "source": [
    "sim = ver_simetria(prom)\n",
    "prom_aux = prom.copy(deep = True)\n",
    "np.fill_diagonal(prom_aux.values, 0)\n",
    "sns.heatmap(data = sim, annot = prom_aux, cmap = \"Blues\")\n",
    "plt.xlabel(\"predición\")\n",
    "plt.yticks(rotation=0)\n",
    "plt.show()\n",
    "print(prom.sum(axis = 1))\n",
    "#normalizado"
   ]
  },
  {
   "cell_type": "markdown",
   "metadata": {},
   "source": [
    "La idea de este heatmap es ver si cuando si se confunde de la misma forma, ejempo, tengo una foto de un 5 y me dice que es un 6, quiero ver si cuando mira una foto de un 6 se confunde masomenos la misma cantidad de veces.\n",
    "Para hacer eso, agarra la matriz y le reste su traspuesta, es decir A(i,j) - A(j, i) cuanto mas cercano a cero es mas similares son las prediciones de ambos lados, si es muy positivo, es por que predice mas veces A(i,j) y cuando es negativo predice mas veces A(j, i).\n",
    "Lo que nos faltaria ver, para que este grafico este piola, serian los valores reales de cada posicion. Creo que se entiende por que... Si en la posicion A(9,7) esta asi por que en realidad habia un 6 ahi y un 0 en la pos (7,9) entonces es un indicador de que no se confunde de la misma forma el 7 con el nueve que el 9 con el 7... pero si habia 600, eso implica que en la posicion A(7,9) habia 594 y eso diria que se confunden relativamente igual. Hay se ve un poco mejor(dejo esto para que entiendan los numeros y esas cosas)\n",
    "Saque la diagonal por que... es obvio que da 0 y ensucia un grafico que ya esta bastante cargado."
   ]
  },
  {
   "cell_type": "markdown",
   "metadata": {},
   "source": [
    "# Calculamos accuracy para cada metodo\n"
   ]
  },
  {
   "cell_type": "code",
   "execution_count": 7,
   "metadata": {
    "collapsed": true
   },
   "outputs": [],
   "source": [
    "def tags(lista_variables):\n",
    "    etiqueta = ''\n",
    "    if lista_variables[0] == 'KNN':\n",
    "        etiqueta += str(lista_variables[1])\n",
    "    if lista_variables[0] =='kNNPCA':\n",
    "        etiqueta += str(lista_variables[1])+'\\n'+str(lista_variables[2])\n",
    "    etiqueta += '\\n'+ str(lista_variables[3])\n",
    "    return etiqueta"
   ]
  },
  {
   "cell_type": "code",
   "execution_count": 40,
   "metadata": {
    "scrolled": false
   },
   "outputs": [
    {
     "name": "stderr",
     "output_type": "stream",
     "text": [
      "/home/javier/anaconda3/lib/python3.6/site-packages/seaborn/categorical.py:2342: UserWarning: The violinplot API has been changed. Attempting to adjust your arguments for the new API (which might not work). Please update your code. See the version 0.6 release notes for more info.\n",
      "  warnings.warn(msg, UserWarning)\n"
     ]
    },
    {
     "data": {
      "image/png": "[encoded data removed]",
      "text/plain": [
       "<matplotlib.figure.Figure at 0x7fd0a9404da0>"
      ]
     },
     "metadata": {},
     "output_type": "display_data"
    },
    {
     "data": {
      "image/png": "[encoded data removed]",
      "text/plain": [
       "<matplotlib.figure.Figure at 0x7fd0a5e6b518>"
      ]
     },
     "metadata": {},
     "output_type": "display_data"
    }
   ],
   "source": [
    "i = 0\n",
    "accu = []\n",
    "etiquetas = []\n",
    "for metodo in lista_metodos: \n",
    "    bla, bls, df = accuracy_mat(metodo)\n",
    "    #print(nombres[i])\n",
    "    tag = tags(nombres[i])\n",
    "    i += 1\n",
    "    accu.append(df)\n",
    "    etiquetas.append(tag)\n",
    "\n",
    "#print(etiquetas)\n",
    "\n",
    "#for ac in accu:\n",
    "    #print(ac)\n",
    "    #print('_____')\n",
    "    #sns.violinplot(ac.transpose())\n",
    "    #plt.show()\n",
    "accuracy_total = pd.concat(accu)\n",
    "accuracy_total.index = etiquetas\n",
    "\n",
    "knns = [100 for x in range(len(accuracy_total.index))]\n",
    "alphas = [-100 for x in range(len(accuracy_total.index))]\n",
    "kfolds = [0 for x in range(len(accuracy_total.index))]\n",
    "i = 0\n",
    "for ind in accuracy_total.index:\n",
    "    lista = ind.split(\"\\n\")\n",
    "    lista_piola = []\n",
    "    for elem in lista:\n",
    "        aux = elem.split()\n",
    "        lista_piola.append(aux)\n",
    "    \n",
    "    for tripla in lista_piola:\n",
    "        alpha = -100\n",
    "        knn = 100\n",
    "        kfold = 0\n",
    "        if tripla[0] == 'k':\n",
    "            knn = int(tripla[1])\n",
    "            knns[i] = knn\n",
    "        elif tripla[0] == 'alpha':\n",
    "            alpha = int(tripla[1])\n",
    "            alphas[i] = alpha\n",
    "        elif tripla[0] == 'kfold':\n",
    "            kfold = int(tripla[1])\n",
    "            kfolds[i] = kfold\n",
    "            \n",
    "    i += 1\n",
    "accuracy_total['alpha'] = alphas\n",
    "accuracy_total['kfold'] = kfolds\n",
    "accuracy_total['knn'] = knns\n",
    "\n",
    "accuracy_total.sort_values(['alpha','kfold','knn'], axis = 0, inplace = True)\n",
    "accuracy_total_knn = accuracy_total.sort_values(['knn','alpha','kfold'], axis = 0)\n",
    "accuracy_total_knn.drop(['alpha','kfold','knn'], axis = 1, inplace = True)\n",
    "accuracy_total.drop(['alpha','kfold','knn'], axis = 1, inplace = True)\n",
    "accuracy_total = accuracy_total.transpose()\n",
    "sns.violinplot(accuracy_total)\n",
    "plt.show()\n",
    "\n",
    "sns.violinplot(accuracy_total_knn.transpose())\n",
    "plt.show()\n",
    "\n"
   ]
  },
  {
   "cell_type": "markdown",
   "metadata": {},
   "source": [
    "# calculamos F1 score\n",
    "\n",
    "(esto es para mostrar lo que podemos hacer, es decir hice F1, pero podriamos haber hecho otra cosa)\n",
    "\n",
    "## En este segmento vamos a calcular la F1 score M\n",
    "### esto nos da un F1 score unificada para las 10 clases. es decir tenemos un valor por cada matriz que genera el kfold. Al tener un valor unificado, podemos ver como se comporta nuestros distintos algoritmos con un violin plot, de manera mas resumida. perdemos información, pero es mas fácil de disernir"
   ]
  },
  {
   "cell_type": "code",
   "execution_count": null,
   "metadata": {
    "collapsed": true
   },
   "outputs": [],
   "source": [
    "df = F_score_M(1, matrices)\n",
    "df_mod = F_score_M(1, mat_KNN_mod) \n",
    "df_knn = F_score_M(1, mat_KNN)\n"
   ]
  },
  {
   "cell_type": "code",
   "execution_count": null,
   "metadata": {
    "collapsed": true
   },
   "outputs": [],
   "source": [
    "f_scores_M = pd.concat([df, df_mod, df_knn])\n",
    "f_scores_M.index = ['alpha = 10', 'modificado', 'knn']\n",
    "sns.violinplot(f_scores_M.transpose())\n",
    "plt.show()"
   ]
  },
  {
   "cell_type": "markdown",
   "metadata": {},
   "source": [
    "## ahora calcula mos el F1 score para cada clase\n",
    "\n",
    "### esto nos deja ver el comportamiento de cada clase por separado, todavia no se que es mejor, tener graficos por clase y en ellos cada variante de nuestro algoritmo O tener graficos por algoritmos para ver como se comportan las calses en un algoritmo dado. Aunque estos graficos tengan escencialemente la misma información, se ven dos cosas distintas... asi que no se, por ahora voy a dejar las dos opciones\n",
    "\n",
    "## grafico por algoritmo"
   ]
  },
  {
   "cell_type": "code",
   "execution_count": null,
   "metadata": {
    "collapsed": true,
    "scrolled": true
   },
   "outputs": [],
   "source": [
    "\n",
    "desvio, promedio, df = F_score_mat(1, matrices)\n",
    "desvio, promedio_mod, df_mod = F_score_mat(1, mat_KNN_mod) \n",
    "desvio, promedio_knn, df_knn = F_score_mat(1, mat_KNN)\n"
   ]
  },
  {
   "cell_type": "code",
   "execution_count": null,
   "metadata": {
    "collapsed": true
   },
   "outputs": [],
   "source": [
    "sns.violinplot(df.transpose())\n",
    "plt.title(\"alpha = 10?\")\n",
    "plt.show()\n",
    "sns.violinplot(df_mod.transpose())\n",
    "plt.title(\"modificado\")\n",
    "plt.show()\n",
    "sns.violinplot(df_knn.transpose())\n",
    "plt.title(\"knn\")\n",
    "plt.show()"
   ]
  },
  {
   "cell_type": "markdown",
   "metadata": {},
   "source": [
    "## por clase"
   ]
  },
  {
   "cell_type": "code",
   "execution_count": null,
   "metadata": {
    "collapsed": true,
    "scrolled": false
   },
   "outputs": [],
   "source": [
    "for i in df.index:\n",
    "    aux = df.iloc[i].to_frame()\n",
    "    aux_mod = df_mod.iloc[i].to_frame()\n",
    "    aux_knn = df_knn.iloc[i].to_frame()\n",
    "    data = pd.concat([aux, aux_mod, aux_knn], axis = 1)\n",
    "    data.columns = ['alpha = 10?', 'mod', 'knn']\n",
    "    sns.violinplot(data)\n",
    "    plt.title('clase '+str(i)+'.')\n",
    "    plt.show()"
   ]
  }
 ],
 "metadata": {
  "kernelspec": {
   "display_name": "Python 3",
   "language": "python",
   "name": "python3"
  },
  "language_info": {
   "codemirror_mode": {
    "name": "ipython",
    "version": 3
   },
   "file_extension": ".py",
   "mimetype": "text/x-python",
   "name": "python",
   "nbconvert_exporter": "python",
   "pygments_lexer": "ipython3",
   "version": "3.6.1"
  }
 },
 "nbformat": 4,
 "nbformat_minor": 2
}
